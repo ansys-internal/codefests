{
 "cells": [
  {
   "cell_type": "code",
   "execution_count": null,
   "outputs": [],
   "source": [
    "import ansyscodefest as acf\n",
    "\n",
    "\n",
    "game = acf.play(tutorial=False)\n",
    "game.display_challenge()\n",
    "game.generate_challenge_input()\n",
    "\n",
    "attempt = {\n",
    "    'nodes': [],\n",
    "    'beams': [],\n",
    "    'load_path': [],\n",
    "    'cross-section': acf.BeamXn.RECTANGLE,\n",
    "    'dimensions': [0.09, 0.09]\n",
    "}\n"
   ],
   "metadata": {
    "collapsed": false
   }
  }
 ],
 "metadata": {
  "kernelspec": {
   "display_name": "Python 3",
   "language": "python",
   "name": "python3"
  },
  "language_info": {
   "codemirror_mode": {
    "name": "ipython",
    "version": 2
   },
   "file_extension": ".py",
   "mimetype": "text/x-python",
   "name": "python",
   "nbconvert_exporter": "python",
   "pygments_lexer": "ipython2",
   "version": "2.7.6"
  }
 },
 "nbformat": 4,
 "nbformat_minor": 0
}
