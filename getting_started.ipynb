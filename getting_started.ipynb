{
 "cells": [
  {
   "cell_type": "markdown",
   "source": [
    "# Getting Started\n",
    "\n",
    "## Preamble\n",
    "\n",
    "This challenge has been constructed using the python library `ansyscodefest`, which is already installed in this environment.\n",
    "\n",
    "This text block you are currently reading is contained within what is known as a cell in a [\"**jupyter notebook**\"](https://jupyter.org/). If you've never used a jupyter notebook before then I recommend checking out the jupyter documentation as well as this quickstart article on Ansys' developer portal: [\"JupyterLab Quick Start\"](https://developer.ansys.com/blog/jupyterlab-quick-start), although you can skip the installation steps.\n",
    "\n",
    "This notebook is open in AnsysLab, which is based on JupyterLab. JupyterLab/AnsysLab are simply alternative ways of viewing and editing jupyter notebooks.\n",
    "\n",
    "Fundamentally, however, jupyter notebooks provide a way to write mid-length Python scripts within an interactive Python environment whilst also including markdown blocks for well-formatted documentation. Each \"cell\" in a notebook can be a Python cell or a markdown cell, and you can toggle between them.\n",
    "\n",
    "This AnsysLab environment also has access to Ansys tools, including MAPDL and PyMAPDL. It is recommended that you perform development in AnsysLab so that everyone has the same working environment.\n",
    "\n",
    "## The Challenge\n",
    "\n",
    "In order to begin the challenge we must import the `ansyscodefest` library in a Python cell, like below, and create a game instance by calling the `play()` function. Once it is complete, you can run the `display_challenge()` function to see what you're dealing with. In this example I will take you through the tutorial challenge. When you are ready to begin, run the cell below.\n"
   ],
   "metadata": {
    "collapsed": false
   }
  },
  {
   "cell_type": "code",
   "execution_count": 1,
   "outputs": [
    {
     "name": "stdout",
     "output_type": "stream",
     "text": [
      "## Chamber 11\n",
      "\n",
      "You are a dwarven builder in the fourth age of middle earth. Sauron has been defeated and now the great clean-up effort begins. You are a dwarf of note and \"Renowned in middle-earth for your building prowess\"... at least that's what it said on the ad. And now you've been hired to have a go at fixing the mess that is the mines of Moria. But to start with you need to get your teams *in* and there's a conspicuous lack of bridges leading to the interior of the structure.\n",
      "\n",
      "In order to get your teams across you need to make a bridge across the gap. It needn't be perfect but it does need to be able to support a constant flow of material and people. Your calculations suggest that each node will be loaded with at most *1 metric ton* at any one time.\n",
      "\n",
      "Whilst surveying the area, you notice there's still quite a few *rocks* around that you can make use of. They can be bolted onto and reinforce your bridge structures.\n",
      "\n",
      "The famous wizard Gandalf has also agreed to help you out, an unexpected surprise, but a welcome one. He will use his \"magic\" (you're fairly sure he's not supposed to do that) to help map the chamber into a 2D side-on drawing, so you can more easily plan your work.\n",
      "\n",
      "Finally, you have been given approval to use *steel* as the material for these bridges, but the stuff isn't cheap! Moria was mainly constructed out of rocks back in the day, and you've been told to use as little metal as possible. Additionally, whilst you have a few beam cross-sections to try out you can only use steel beams that connect via nodes on a square grid that are 1 metre apart.\n",
      "\n",
      "### Assumptions\n",
      "\n",
      "You can make a few simple assumptions:\n",
      "\n",
      "* This is a *static* problem and you do not need to worry about rotation or movement\n",
      "* All units are in SI, and metric. Middle earth is full of british people, as you know, so is it that much of a surprise?\n",
      "* The gravitational acceleration in middle-earth is 9.81 m/s/s\n",
      "* The remaining rock in any chamber is the rock the Balrog couldn't break and so won't break no matter what\n",
      "* The properties of the steel you are using are:\n",
      "    * Density  = 7850 Kg/m^3\n",
      "    * Elastic Modulus = 210 GPa\n",
      "    * Poisson's Ratio = 0.29\n",
      "    * Yield Strength = 330 GPa\n",
      "* Your bridge is \"broken\" if even one *beam* experiences stress exceeding the yield strength\n",
      "\n",
      "### Specification\n",
      "\n",
      "So with all that at the forefront of your mind you construct the following specification with Gandalf's help:\n",
      "\n",
      "\n",
      "* You must construct a single continuous steel bridge between the entrance and exit\n",
      "* Beams can only be constructed between immediately adjacent nodes on the grid\n",
      "* Nodes on the load path will all be subject to 1 metric ton of weight at once\n",
      "* The load path can only climb or descend via diagonals. NO STEPS!\n",
      "* The load path can cross-beams that are used as supports, but it must NOT touch *any* rocks.\n",
      "* You must minimise the amount (mass) of steel used\n",
      "* You start with 3 lives and every time you submit a bridge design that breaks, you lose one.\n",
      "* When you submit an answer you must have a non-zero number of lives remaining!\n",
      "\n",
      "```\n",
      "·  ·  ·  ·  ·  ·  ·  ·  ·  ·  ·\n",
      "·  ·  ·  ·  ·  ·  ·  ·  ·  ·  ·\n",
      "·  ·  ·  ·  ·  ·  ·  ·  ·  ·  2\n",
      "1  ·  ·  ·  ·  ·  ·  ·  ·  ·  ·\n",
      "o  ·  ·  ·  ·  ·  ·  ·  ·  ·  o\n",
      "o  ·  ·  ·  ·  ·  ·  ·  ·  ·  o\n",
      "o  ·  ·  ·  ·  ·  ·  ·  ·  ·  o\n",
      "·  ·  ·  ·  ·  ·  ·  o  ·  o  o\n",
      "·  ·  ·  ·  ·  ·  o  o  o  o  o\n",
      "·  ·  ·  ·  ·  o  o  o  o  o  o\n",
      "·  ·  ·  ·  o  o  o  o  o  o  o\n",
      "\n",
      "    y\n",
      "    ^ 5\n",
      "    |\n",
      "    |\n",
      "-5\n",
      "<---+---> x\n",
      "        5\n",
      "    |\n",
      "    |\n",
      "    v -5\n",
      "\n",
      "\n",
      "```\n",
      "\n",
      "The numbers \"1\" and \"2\" represent your entrance and exit respectively. \"o\" represent rocks.\n",
      "\n",
      "* In order to get this right you make a test chamber outside the mines with a safety net beneath it.\n",
      "    * You can use this to test out your ideas/algorithms before applying them to the real thing\n",
      "* This test chamber is a lot smaller unfortunately, but you have to make do with what you've got!\n",
      "    * It lets you test out the rules you'll need to follow though\n",
      "\n",
      "### Submission Format\n",
      "\n",
      "Your submission must be provided as a Python dictionary in the following format.\n",
      "\n",
      "```Python\n",
      "{\n",
      " 'nodes': [[3, -2, 0], [4, 1, 0]],\n",
      " 'beams': [[4, 5], [50, 1]],\n",
      " 'load_path': [1, 4, 5, 11, 7, 8, 2],\n",
      " 'cross-section': acf.BeamXn.CIRCLE,\n",
      " 'dimensions': [0.003]\n",
      " }\n",
      "```\n",
      "\n",
      "* Your bridge's nodes must be supplied as a list of lists. Each sub list will consist of [node number, x-coord, y-coord].\n",
      "  * node numbers should always be greater than 0\n",
      "  * node coordinates must be integers. Float coordinates are not allowed.\n",
      "* Your bridge's beams must be supplied as a list of lists. Each sub list will consist of the two linked node numbers.\n",
      "  * You can use rock node numbers as well as the start/end nodes in these.\n",
      "* The cross-section of your beams can be supplied as an acf.BeamXn object. There are 4 to choose from:\n",
      "  * CIRCLE (1 dimension - radius)\n",
      "  * CYLINDER (2 dimensions - inner radius, outer radius)\n",
      "  * RECTANGLE (2 dimensions - width, height)\n",
      "  * RECTANGLETUBE (6 dimensions - width, height, LHS thickness, RHS thickness, bottom thickness, top thickness; aka WESN)\n",
      "* The dimensions of your cross-section must be supplied as a list of float values (standard form is accepted)\n",
      "  * There should be as many elements as your chosen cross-section requires.\n",
      "\n",
      "### Chamber Details\n",
      "\n",
      "The middle node in your grid is (0, 0).\n",
      "\n",
      "Your nodes are:\n",
      "\n",
      "START: Node(number=1, x=-5, y=2, type=<NodeType.START: 3>)\n",
      "END: Node(number=2, x=5, y=3, type=<NodeType.END: 4>)\n",
      "\n",
      "ROCKS:\n",
      "\n",
      "\n",
      "Node(number=132, x=2, y=-3, type=<NodeType.ROCK: 2>)\n",
      "Node(number=139, x=3, y=-4, type=<NodeType.ROCK: 2>)\n",
      "Node(number=136, x=0, y=-4, type=<NodeType.ROCK: 2>)\n",
      "Node(number=142, x=-1, y=-5, type=<NodeType.ROCK: 2>)\n",
      "Node(number=147, x=4, y=-5, type=<NodeType.ROCK: 2>)\n",
      "Node(number=146, x=3, y=-5, type=<NodeType.ROCK: 2>)\n",
      "Node(number=131, x=1, y=-3, type=<NodeType.ROCK: 2>)\n",
      "Node(number=122, x=-5, y=1, type=<NodeType.ROCK: 2>)\n",
      "Node(number=137, x=1, y=-4, type=<NodeType.ROCK: 2>)\n",
      "Node(number=124, x=-5, y=0, type=<NodeType.ROCK: 2>)\n",
      "Node(number=126, x=-5, y=-1, type=<NodeType.ROCK: 2>)\n",
      "Node(number=135, x=5, y=-3, type=<NodeType.ROCK: 2>)\n",
      "Node(number=141, x=5, y=-4, type=<NodeType.ROCK: 2>)\n",
      "Node(number=144, x=1, y=-5, type=<NodeType.ROCK: 2>)\n",
      "Node(number=145, x=2, y=-5, type=<NodeType.ROCK: 2>)\n",
      "Node(number=134, x=4, y=-3, type=<NodeType.ROCK: 2>)\n",
      "Node(number=127, x=5, y=-1, type=<NodeType.ROCK: 2>)\n",
      "Node(number=130, x=5, y=-2, type=<NodeType.ROCK: 2>)\n",
      "Node(number=133, x=3, y=-3, type=<NodeType.ROCK: 2>)\n",
      "Node(number=148, x=5, y=-5, type=<NodeType.ROCK: 2>)\n",
      "Node(number=138, x=2, y=-4, type=<NodeType.ROCK: 2>)\n",
      "Node(number=129, x=4, y=-2, type=<NodeType.ROCK: 2>)\n",
      "Node(number=125, x=5, y=0, type=<NodeType.ROCK: 2>)\n",
      "Node(number=143, x=0, y=-5, type=<NodeType.ROCK: 2>)\n",
      "Node(number=123, x=5, y=1, type=<NodeType.ROCK: 2>)\n",
      "Node(number=128, x=2, y=-2, type=<NodeType.ROCK: 2>)\n",
      "Node(number=140, x=4, y=-4, type=<NodeType.ROCK: 2>)\n",
      "\n",
      "Good Luck!\n",
      "\n"
     ]
    }
   ],
   "source": [
    "import ansyscodefest as acf\n",
    "\n",
    "\n",
    "game = acf.play(tutorial=True)\n",
    "game.display_challenge()"
   ],
   "metadata": {
    "collapsed": false
   }
  },
  {
   "cell_type": "markdown",
   "source": [
    "OK. Once you've finished reading that spiel (you can copy/paste it into a markdown cell for improved readability if you'd like) you should have an idea of the challenge that lies ahead. So how do we go about solving it?\n",
    "\n",
    "## Breaking Down The Problem\n",
    "\n",
    "> This example won't solve each stage for you, but it will give you the tools you need to get going.\n",
    "\n",
    "This challenge has 3 clear problems.\n",
    "\n",
    "1. Data parsing - getting the rock node details into Python objects\n",
    "2. Bridge geometry - deciding on structure geometry as well as cross-section geometry\n",
    "3. Checking - 5 tries is not enough to see what works and what does not. You need to write a PyMAPDL simulation that can check your design.\n",
    "\n",
    "### Part 1: Data Parsing\n",
    "\n",
    "Starting with number 1, we can use our `game` object to generate an input file."
   ],
   "metadata": {
    "collapsed": false
   }
  },
  {
   "cell_type": "code",
   "execution_count": 4,
   "outputs": [],
   "source": [
    "game.generate_challenge_input()"
   ],
   "metadata": {
    "collapsed": false
   }
  },
  {
   "cell_type": "markdown",
   "source": [
    "Then we can use Python to parse that.\n",
    "\n",
    "### Part 2: Bridge geometry!\n",
    "\n",
    "The crux of the challenge. In the Python cell below I have written a script that builds the most simple bridge possible in this situation.\n",
    "\n",
    "Remember you need to have a list of nodes, which should also be numbered (and NOT conflict with the existing rock nodes as well as the start and end nodes (1 & 2)), as well as a list of beams.\n",
    "\n",
    "Node 1 is at (-5, 2) and Node 2 is at (+5, 3).\n"
   ],
   "metadata": {
    "collapsed": false
   }
  },
  {
   "cell_type": "code",
   "execution_count": 3,
   "outputs": [
    {
     "data": {
      "text/plain": "{'nodes': [[3, -4, 2],\n  [4, -3, 2],\n  [5, -2, 2],\n  [6, -1, 2],\n  [7, 0, 2],\n  [8, 1, 2],\n  [9, 2, 2],\n  [10, 3, 2],\n  [11, 4, 2]],\n 'beams': [[1, 3],\n  [11, 2],\n  [3, 4],\n  [4, 5],\n  [5, 6],\n  [6, 7],\n  [7, 8],\n  [8, 9],\n  [9, 10],\n  [10, 11]],\n 'load_path': [1, 3, 4, 5, 6, 7, 8, 9, 10, 11, 2],\n 'cross-section': <BeamXn.RECTANGLE: 1>,\n 'dimensions': [0.09, 0.09]}"
     },
     "execution_count": 3,
     "metadata": {},
     "output_type": "execute_result"
    }
   ],
   "source": [
    "nodes = [[i+3, -4+i, 2] for i in range(9)]\n",
    "beams = [[1, 3], [11, 2]] + [[i, j] for i, j in zip(range(3, 11), range(4, 12))]\n",
    "load_path = [1] + [i for i in range(3, 12)] + [2]\n",
    "attempt = {'nodes': nodes, 'beams': beams, 'load_path':load_path, 'cross-section': acf.BeamXn.RECTANGLE, 'dimensions': [0.09, 0.09]}\n",
    "attempt"
   ],
   "metadata": {
    "collapsed": false
   }
  },
  {
   "cell_type": "markdown",
   "source": [
    "Now, normally submitting this bridge straight to the program would be too risky and we'd move onto Part 3, however, in the tutorial we get infinite lives so it is worth trying out here and now to see what happens.\n"
   ],
   "metadata": {
    "collapsed": false
   }
  },
  {
   "cell_type": "code",
   "execution_count": null,
   "outputs": [],
   "source": [
    "game.submit_attempt(attempt)\n"
   ],
   "metadata": {
    "collapsed": false,
    "pycharm": {
     "is_executing": true
    }
   }
  },
  {
   "cell_type": "markdown",
   "source": [
    "Oof! 2 out of our 10 beams broke and experienced stress well beyond the yield strength. We should modify our attempt to include some braces against those rocks. We can use rock 123 at (5, 1) and 122 at (-5, 1) to bolster our bridge with 2 additional beams.\n",
    "\n",
    "> We don't need to include the rocks as nodes in our attempt because they already exist! We just need to refer to their number.\n"
   ],
   "metadata": {
    "collapsed": false
   }
  },
  {
   "cell_type": "code",
   "execution_count": 4,
   "outputs": [
    {
     "data": {
      "text/plain": "{'nodes': [[3, -4, 2],\n  [4, -3, 2],\n  [5, -2, 2],\n  [6, -1, 2],\n  [7, 0, 2],\n  [8, 1, 2],\n  [9, 2, 2],\n  [10, 3, 2],\n  [11, 4, 2]],\n 'beams': [[1, 3],\n  [11, 2],\n  [3, 4],\n  [4, 5],\n  [5, 6],\n  [6, 7],\n  [7, 8],\n  [8, 9],\n  [9, 10],\n  [10, 11],\n  [122, 3],\n  [123, 11]],\n 'load_path': [1, 3, 4, 5, 6, 7, 8, 9, 10, 11, 2],\n 'cross-section': <BeamXn.RECTANGLE: 1>,\n 'dimensions': [0.09, 0.09]}"
     },
     "execution_count": 4,
     "metadata": {},
     "output_type": "execute_result"
    }
   ],
   "source": [
    "attempt['beams'].extend([[122, 3], [123, 11]])\n",
    "attempt\n"
   ],
   "metadata": {
    "collapsed": false
   }
  },
  {
   "cell_type": "code",
   "execution_count": null,
   "outputs": [],
   "source": [
    "game.submit_attempt(attempt)\n"
   ],
   "metadata": {
    "collapsed": false,
    "pycharm": {
     "is_executing": true
    }
   }
  },
  {
   "cell_type": "markdown",
   "source": [
    "Much better! The bridge now survives, although it's quite hefty. We used 842 kg of steel. It's lucky we can ignore the bridge's mass when it comes to the load on each node. I am sure that you could do better. But in the real challenge you won't be able to iterate like this, at least not *much*. You'll need to write your own PyMAPDL simulation to simulate your bridge ahead of submission. This brings us to...\n",
    "\n",
    "### Part 3: Checking\n",
    "\n",
    "In order to iterate on our design we need to write our own simulation of the bridge. A basic script using PyMAPDL is shown below that simulates the bridge in the challenge.\n"
   ],
   "metadata": {
    "collapsed": false
   }
  },
  {
   "cell_type": "code",
   "execution_count": 11,
   "outputs": [
    {
     "name": "stderr",
     "output_type": "stream",
     "text": [
      "C:\\Users\\jderrick\\GitHub\\VATech_codefest\\venv\\lib\\site-packages\\pyvista\\jupyter\\notebook.py:58: UserWarning: Failed to use notebook backend: \n",
      "\n",
      "No module named 'trame'\n",
      "\n",
      "Falling back to a static output.\n",
      "  warnings.warn(\n"
     ]
    },
    {
     "data": {
      "text/plain": "<PIL.Image.Image image mode=RGB size=1024x768>",
      "image/png": "[encoded data removed]"
     },
     "metadata": {},
     "output_type": "display_data"
    },
    {
     "name": "stderr",
     "output_type": "stream",
     "text": [
      "C:\\Users\\jderrick\\GitHub\\VATech_codefest\\venv\\lib\\site-packages\\pyvista\\jupyter\\notebook.py:58: UserWarning: Failed to use notebook backend: \n",
      "\n",
      "No module named 'trame'\n",
      "\n",
      "Falling back to a static output.\n",
      "  warnings.warn(\n"
     ]
    },
    {
     "data": {
      "text/plain": "<PIL.Image.Image image mode=RGB size=1024x768>",
      "image/png": "[encoded data removed]"
     },
     "metadata": {},
     "output_type": "display_data"
    }
   ],
   "source": [
    "from ansys.mapdl.core import launch_mapdl\n",
    "\n",
    "\n",
    "# start mapdl and clear it\n",
    "mapdl = launch_mapdl()\n",
    "mapdl.clear()  # optional as MAPDL just started\n",
    "mapdl.units(\"SI\")  # SI - International system (m, kg, s, K).\n",
    "mapdl.prep7()\n",
    "\n",
    "mapdl.antype(\"STATIC\")\n",
    "mapdl.et(1, \"BEAM188\")\n",
    "mapdl.sectype(1, \"BEAM\", \"RECT\")\n",
    "mapdl.secdata(attempt['dimensions'][0], attempt['dimensions'][1])\n",
    "\n",
    "\n",
    "mapdl.mp(\"EX\", 1, acf.STEEL.elastic_modulus)\n",
    "mapdl.mp(\"PRXY\", acf.STEEL.poissons_ratio)\n",
    "\n",
    "for node in attempt['nodes']:\n",
    "    mapdl.n(node[0], node[1], node[2], 0)\n",
    "\n",
    "# Note: We have to include 1, 2 and the rock nodes we want to use\n",
    "fixed_nodes = [[1, -5, 2], [2, 5, 3], [122, -5, 1], [123, 5, 1]]\n",
    "for node in fixed_nodes:\n",
    "    mapdl.n(node[0], node[1], node[2], 0)\n",
    "\n",
    "for beam in attempt['beams']:\n",
    "    mapdl.e(beam[0], beam[1])\n",
    "\n",
    "\n",
    "mapdl.nplot(True,cpos='xy')\n",
    "# constrain fixed nodes by removing their degrees of freedom\n",
    "mapdl.nsel(\"ALL\")\n",
    "for n in fixed_nodes:\n",
    "    mapdl.d(n[0], \"ALL\")\n",
    "\n",
    "# Apply the 1 ton of force to each node\n",
    "for node in attempt['load_path']:\n",
    "    mapdl.f(node, \"FY\", -9.81*1000.)\n",
    "\n",
    "mapdl.finish()\n",
    "mapdl.run(\"/SOLU\")\n",
    "mapdl.solve()\n",
    "mapdl.finish()\n",
    "mapdl.post1()\n",
    "simulation_result = mapdl.result\n",
    "simulation_result.plot_nodal_stress(0, 'XY', cpos='xy', cmap='magma')\n",
    "\n",
    "mapdl.finish()\n",
    "# This command is arguably the most important!\n",
    "# Make sure it gets called when you're done otherwise your\n",
    "# MAPDL instances will hang forever!\n",
    "mapdl.exit()\n"
   ],
   "metadata": {
    "collapsed": false
   }
  },
  {
   "cell_type": "markdown",
   "source": [
    "Run the cell below to see the full range of materials available to you."
   ],
   "metadata": {
    "collapsed": false
   }
  },
  {
   "cell_type": "code",
   "execution_count": 3,
   "outputs": [
    {
     "name": "stdout",
     "output_type": "stream",
     "text": [
      "Material(name='Steel', density=7850.0, elastic_modulus=210000000000.0, poissons_ratio=0.29, yield_strength=330000000.0, price_per_kg=1.2, id=1)\n",
      "Material(name='Copper', density=8940.0, elastic_modulus=125000000000.0, poissons_ratio=0.345, yield_strength=30000000.0, price_per_kg=9.3, id=2)\n",
      "Material(name='Aluminum', density=2800.0, elastic_modulus=70000000000.0, poissons_ratio=0.33, yield_strength=270000000.0, price_per_kg=3.5, id=3)\n",
      "Material(name='Expanded Polystyrene', density=24.0, elastic_modulus=7000000.0, poissons_ratio=0.275, yield_strength=175000.0, price_per_kg=3.0, id=4)\n",
      "Material(name='Titanium', density=4500.0, elastic_modulus=110000000000.0, poissons_ratio=0.35, yield_strength=500000000.0, price_per_kg=15.0, id=5)\n",
      "Material(name='Cast Iron', density=7000.0, elastic_modulus=90000000000.0, poissons_ratio=0.26, yield_strength=80000000.0, price_per_kg=0.5, id=6)\n",
      "Material(name='Diamond', density=3500.0, elastic_modulus=1100000000000.0, poissons_ratio=0.2, yield_strength=2850000000.0, price_per_kg=400000.0, id=7)\n",
      "Material(name='Concrete', density=650.0, elastic_modulus=15000000000.0, poissons_ratio=0.185, yield_strength=1000000.0, price_per_kg=0.07, id=8)\n",
      "Material(name='Granite', density=3000.0, elastic_modulus=60000000000.0, poissons_ratio=0.2, yield_strength=17000000.0, price_per_kg=3.5, id=9)\n",
      "Material(name='Marble', density=2800.0, elastic_modulus=60000000000.0, poissons_ratio=0.18, yield_strength=8000000.0, price_per_kg=0.71, id=10)\n",
      "Material(name='Sandstone', density=2400.0, elastic_modulus=19.5, poissons_ratio=0.255, yield_strength=13000000.0, price_per_kg=0.5, id=11)\n",
      "Material(name='Ice', density=925.0, elastic_modulus=9150000000.0, poissons_ratio=0.365, yield_strength=6500000.0, price_per_kg=0.25, id=12)\n"
     ]
    }
   ],
   "source": [
    "for material in acf.MATERIALS.values():\n",
    "    print(material)\n"
   ],
   "metadata": {
    "collapsed": false
   }
  },
  {
   "cell_type": "markdown",
   "source": [
    "And with that you have all the tools you need to tackle this challenge. Feel free to play around with the tutorial as much as you want and when you're ready, open the `challenge` notebook and get started!\n",
    "\n",
    "## Submission\n",
    "\n",
    "Submission is in 2 parts:\n",
    "\n",
    "1. We will come round to see your answers and check you've got lives left etc.\n",
    "2. You should also submit your answers, notebooks and any other supporting material via [this submission form.](https://gz2idtcjsw2.typeform.com/AnsysCodeFest)\n",
    "\n",
    "[Submission Form](https://gz2idtcjsw2.typeform.com/AnsysCodeFest)\n",
    "\n",
    "We will then collate the submissions and declare a winner!\n",
    "\n",
    "## Judging\n",
    "\n",
    "A note on judging. The winner will be the team that submits the bridge design with the lowest mass (that does not break) and retains as many lives as possible. If anyone optimises this and finishes early, you are welcome to turn on \"hard mode\" in the `submit_attempt` function for an added bonus challenge.\n",
    "\n",
    "In the event of a tie or similar the team with the most lives remaining will win. In the event of a tie in that instance the solution code will be analysed.\n",
    "\n",
    "It is possible, but impractical, to solve this challenge entirely with pen and paper. You are encouraged to use Python and PyMAPDL as much as possible. Throughout this event we will be watching teams to see how you approach the problems present.\n",
    "\n",
    "We will reward:\n",
    "\n",
    "* Innovation\n",
    "* Automation\n",
    "* Clean code\n",
    "* Repeatability\n",
    "\n",
    "Amongst other facets! For example, if a team were to create an algorithm that optimises the bridge design automatically and submits the result automatically, complete with automated testing, we would value that very highly, even if it did not produce a winning entry.\n"
   ],
   "metadata": {
    "collapsed": false
   }
  },
  {
   "cell_type": "code",
   "execution_count": null,
   "outputs": [],
   "source": [],
   "metadata": {
    "collapsed": false
   }
  }
 ],
 "metadata": {
  "kernelspec": {
   "display_name": "Python 3",
   "language": "python",
   "name": "python3"
  },
  "language_info": {
   "codemirror_mode": {
    "name": "ipython",
    "version": 2
   },
   "file_extension": ".py",
   "mimetype": "text/x-python",
   "name": "python",
   "nbconvert_exporter": "python",
   "pygments_lexer": "ipython2",
   "version": "2.7.6"
  }
 },
 "nbformat": 4,
 "nbformat_minor": 0
}
